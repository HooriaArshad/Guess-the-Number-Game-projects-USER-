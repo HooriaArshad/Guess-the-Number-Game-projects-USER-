{
  "nbformat": 4,
  "nbformat_minor": 0,
  "metadata": {
    "colab": {
      "provenance": [],
      "authorship_tag": "ABX9TyOJPAXi3esqNF3oucmtPBet",
      "include_colab_link": true
    },
    "kernelspec": {
      "name": "python3",
      "display_name": "Python 3"
    },
    "language_info": {
      "name": "python"
    }
  },
  "cells": [
    {
      "cell_type": "markdown",
      "metadata": {
        "id": "view-in-github",
        "colab_type": "text"
      },
      "source": [
        "<a href=\"https://colab.research.google.com/github/HooriaArshad/Guess-the-Number-Game-projects-USER-/blob/main/Guess_the_Number_Game_user.ipynb\" target=\"_parent\"><img src=\"https://colab.research.google.com/assets/colab-badge.svg\" alt=\"Open In Colab\"/></a>"
      ]
    },
    {
      "cell_type": "code",
      "execution_count": 2,
      "metadata": {
        "colab": {
          "base_uri": "https://localhost:8080/"
        },
        "id": "vkrxwa5p42zk",
        "outputId": "3b637b77-3464-4bad-fe09-79756aa45f65"
      },
      "outputs": [
        {
          "output_type": "stream",
          "name": "stdout",
          "text": [
            "\n",
            "🤔 Think of a number between 1 and 100, and I'll guess it!\n",
            "\n",
            "🔍 My guess is: 50\n",
            "👉 Type 'h' (too high), 'l' (too low), or 'c' (correct): l\n",
            "⬆️ Got it, I'll guess higher!\n",
            "\n",
            "🔍 My guess is: 75\n",
            "👉 Type 'h' (too high), 'l' (too low), or 'c' (correct): l\n",
            "⬆️ Got it, I'll guess higher!\n",
            "\n",
            "🔍 My guess is: 88\n",
            "👉 Type 'h' (too high), 'l' (too low), or 'c' (correct): h\n",
            "⬇️ Okay, I'll guess lower!\n",
            "\n",
            "🔍 My guess is: 81\n",
            "👉 Type 'h' (too high), 'l' (too low), or 'c' (correct): h\n",
            "⬇️ Okay, I'll guess lower!\n",
            "\n",
            "🔍 My guess is: 78\n",
            "👉 Type 'h' (too high), 'l' (too low), or 'c' (correct): h\n",
            "⬇️ Okay, I'll guess lower!\n",
            "\n",
            "🔍 My guess is: 76\n",
            "👉 Type 'h' (too high), 'l' (too low), or 'c' (correct): c\n",
            "\n",
            "🎯 Yay! I guessed your number in 6 attempts! 🥳\n"
          ]
        }
      ],
      "source": [
        "import time\n",
        "\n",
        "print(\"\\n🤔 Think of a number between 1 and 100, and I'll guess it!\")\n",
        "time.sleep(1)\n",
        "\n",
        "low = 1\n",
        "high = 100\n",
        "attempts = 0\n",
        "\n",
        "while True:\n",
        "    guess = (low + high) // 2\n",
        "    attempts += 1\n",
        "    print(f\"\\n🔍 My guess is: {guess}\")\n",
        "    feedback = input(\"👉 Type 'h' (too high), 'l' (too low), or 'c' (correct): \").lower()\n",
        "\n",
        "    if feedback == \"h\":\n",
        "        high = guess - 1\n",
        "        print(\"⬇️ Okay, I'll guess lower!\")\n",
        "    elif feedback == \"l\":\n",
        "        low = guess + 1\n",
        "        print(\"⬆️ Got it, I'll guess higher!\")\n",
        "    elif feedback == \"c\":\n",
        "        print(f\"\\n🎯 Yay! I guessed your number in {attempts} attempts! 🥳\")\n",
        "        break\n",
        "    else:\n",
        "        print(\"\\n⚠️ Oops! Please type only 'h', 'l', or 'c'.\")\n"
      ]
    }
  ]
}